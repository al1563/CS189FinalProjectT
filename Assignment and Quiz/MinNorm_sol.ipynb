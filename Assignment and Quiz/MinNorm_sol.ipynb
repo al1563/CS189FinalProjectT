{
  "nbformat": 4,
  "nbformat_minor": 0,
  "metadata": {
    "colab": {
      "name": "MinNorm-sol.ipynb",
      "provenance": [],
      "collapsed_sections": []
    },
    "kernelspec": {
      "name": "python3",
      "display_name": "Python 3"
    }
  },
  "cells": [
    {
      "cell_type": "markdown",
      "metadata": {
        "id": "URWy0ZyU9nRe"
      },
      "source": [
        "# SVD review"
      ]
    },
    {
      "cell_type": "markdown",
      "metadata": {
        "id": "Y1jLssdAkuC2"
      },
      "source": [
        "**Singular Value Decomposition(SVD)** \n",
        "is a way of factorizing any $m\\times n$ matrix $A$into singular vectors and singular values. SVD is more general than eigendecomposition, but can give us similar information. \n",
        "\n",
        "The SVD of a matrix A can be written as: \n",
        "\n",
        "$$\\color{Blue}{A = UDV^{\\top}}$$\n",
        "\n",
        "Where $U$ is $m\\times m$ orthonormal, $D$ is $m \\times n$ diagonal matrix with non-negative singular values on the diagonals, and $V^T$ is $n \\times n$ orthonormal. \n",
        "$(U^{\\top} = U^{-1} \\ \\text{and} \\ V^{\\top} = V^{-1})$\n",
        "\n",
        "The columns of $U$ are known as the **left-singular vectors**. The columns of $V$ are known as the **right-singular vectors**.\n",
        "\n",
        "Geometrically, $U$ and $V$ can be thought of as rotation matrices, while $D$ is a scaling and projection matrix. \n",
        "\n",
        "![Singular Value Decomposition](https://raw.githubusercontent.com/adhiraiyan/DeepLearningWithTF2.0/master/notebooks/figures/fig0208a.png)"
      ]
    },
    {
      "cell_type": "markdown",
      "metadata": {
        "id": "jA-6znYt9qS0"
      },
      "source": [
        "# Moore Penrose Pseudoinverse"
      ]
    },
    {
      "cell_type": "markdown",
      "metadata": {
        "id": "s1YlvoTNWBAC"
      },
      "source": [
        "When solving linear least squares problems in the form $Xw = y$ ($X$ data matrix, $w$ coefficients, $y$ observations to predict). Often, $X$ is not square or directly invertible. \n",
        "\n",
        "The **Moore-Penrose pseudoinverse** $X^+$gives us a generalization of the inverse matrix that can help us solve linear least squares solutions, $w = X^+ y$ . \n",
        "\n",
        "A computationally simple and accurate of computing the pseudoinverse involves using the singular value decomposition. If $X = UDV^T$, then the pseudoinverse would be $$X^+ = VD^+ U^T$$ where $D^+$ of a diagonal matrix $D$ is obtained by taking the reciprocal of the nonzero diagonal entries, then transposing that matrix. \n",
        "\n",
        "Let us go through an example:"
      ]
    },
    {
      "cell_type": "code",
      "metadata": {
        "id": "dJfMx6tTgfVM"
      },
      "source": [
        "import matplotlib.pyplot as plt\n",
        "import numpy as np\n",
        "import pandas as pd\n",
        "import os \n",
        "%matplotlib inline\n",
        "np.random.seed(42)"
      ],
      "execution_count": null,
      "outputs": []
    },
    {
      "cell_type": "code",
      "metadata": {
        "colab": {
          "base_uri": "https://localhost:8080/",
          "height": 368
        },
        "id": "kJELvXYKYLPr",
        "outputId": "5ba6dc20-228c-4179-937a-9a4c7351a8b4"
      },
      "source": [
        "matrix_X = np.random.uniform(size = [3, 2], low=1, high=10)\n",
        "print(\"Matrix X: \\n{}\\n\".format(matrix_X));\n",
        "plt.imshow(matrix_X, cmap = 'Reds',vmin = 1, vmax = 10); plt.title(r'$X$');"
      ],
      "execution_count": null,
      "outputs": [
        {
          "output_type": "stream",
          "text": [
            "Matrix X: \n",
            "[[5.10462986 8.06658365]\n",
            " [2.79706404 5.62810995]\n",
            " [6.33173112 1.41805371]]\n",
            "\n"
          ],
          "name": "stdout"
        },
        {
          "output_type": "display_data",
          "data": {
            "image/png": "[encoded data removed]",
            "text/plain": [
              "<Figure size 432x288 with 1 Axes>"
            ]
          },
          "metadata": {
            "tags": [],
            "needs_background": "light"
          }
        }
      ]
    },
    {
      "cell_type": "code",
      "metadata": {
        "colab": {
          "base_uri": "https://localhost:8080/",
          "height": 452
        },
        "id": "-gWkaNtlY3Yx",
        "outputId": "abfde304-3725-4f7c-86ad-eb8013f16c5f"
      },
      "source": [
        "## compute the svd of the matrix X\n",
        "## CODE HERE\n",
        "u, d, vt = np.linalg.svd(matrix_X, full_matrices=True)\n",
        "## CODE END\n",
        "\n",
        "print(\"Matrix U: \\n{} \\n\\nMatrix D: \\n{} \\n\\nMatrix V^T: \\n{}\\n\".format(u, d, vt))\n",
        "\n",
        "fig, ax = plt.subplots(1,3, figsize = (10,3))\n",
        "ax[0].imshow(u, cmap = 'Blues', aspect = 'auto'); ax[0].set_title('U')\n",
        "ax[1].imshow(np.concatenate((np.diag(d),np.zeros([1,2]))), cmap = 'Greys', vmin = 0); \n",
        "ax[1].set_title('D')\n",
        "ax[2].imshow(vt, cmap = 'Reds'); ax[2].set_title('Vt')"
      ],
      "execution_count": null,
      "outputs": [
        {
          "output_type": "stream",
          "text": [
            "Matrix U: \n",
            "[[-0.76437236 -0.2778561  -0.58183407]\n",
            " [-0.49390401 -0.3277583   0.80537776]\n",
            " [-0.41448007  0.90297867  0.11329514]] \n",
            "\n",
            "Matrix D: \n",
            "[12.38615677  4.39443085] \n",
            "\n",
            "Matrix V^T: \n",
            "[[-0.63843011 -0.7696798 ]\n",
            " [ 0.7696798  -0.63843011]]\n",
            "\n"
          ],
          "name": "stdout"
        },
        {
          "output_type": "execute_result",
          "data": {
            "text/plain": [
              "Text(0.5, 1.0, 'Vt')"
            ]
          },
          "metadata": {
            "tags": []
          },
          "execution_count": 133
        },
        {
          "output_type": "display_data",
          "data": {
            "image/png": "[encoded data removed]",
            "text/plain": [
              "<Figure size 720x216 with 3 Axes>"
            ]
          },
          "metadata": {
            "tags": [],
            "needs_background": "light"
          }
        }
      ]
    },
    {
      "cell_type": "code",
      "metadata": {
        "colab": {
          "base_uri": "https://localhost:8080/",
          "height": 669
        },
        "id": "q7dhapl0cZoq",
        "outputId": "3f8db39f-8df4-4f71-e13c-ed6e563d4990"
      },
      "source": [
        "## compute the pseudo-inverse of matrix D\n",
        "## remember, you keep the nonzero singular values, then transpose the resulting matrix\n",
        "## CODE HERE\n",
        "dplus = np.concatenate([np.diag(1/d).T, np.zeros([2, 1])], axis=1)\n",
        "## CODE END\n",
        "print(\"D plus: \\n{}\\n\".format(dplus))\n",
        "\n",
        "\n",
        "## Then compute the pseudo-inverse of matrix X\n",
        "## CODE HERE\n",
        "Xplus = np.dot(vt.T,np.dot(dplus,u.T))\n",
        "## CODE END\n",
        "print(\"The Moore-Penrose pseudoinverse of Matrix X: \\n{}\".format(Xplus))\n",
        "\n",
        "plt.imshow(matrix_X, cmap = 'Reds',vmin = 1, vmax = 10); plt.title(r'$X$');plt.show()\n",
        "plt.imshow(Xplus,cmap = 'Reds'); plt.title(r'$X^+$'); plt.show();"
      ],
      "execution_count": null,
      "outputs": [
        {
          "output_type": "stream",
          "text": [
            "D plus: \n",
            "[[0.08073529 0.         0.        ]\n",
            " [0.         0.22756075 0.        ]]\n",
            "\n",
            "The Moore-Penrose pseudoinverse of Matrix X: \n",
            "[[-0.00926751 -0.0319488   0.17951963]\n",
            " [ 0.08786574  0.07830862 -0.10543029]]\n"
          ],
          "name": "stdout"
        },
        {
          "output_type": "display_data",
          "data": {
            "image/png": "[encoded data removed]",
            "text/plain": [
              "<Figure size 432x288 with 1 Axes>"
            ]
          },
          "metadata": {
            "tags": [],
            "needs_background": "light"
          }
        },
        {
          "output_type": "display_data",
          "data": {
            "image/png": "[encoded data removed]",
            "text/plain": [
              "<Figure size 432x288 with 1 Axes>"
            ]
          },
          "metadata": {
            "tags": [],
            "needs_background": "light"
          }
        }
      ]
    },
    {
      "cell_type": "code",
      "metadata": {
        "colab": {
          "base_uri": "https://localhost:8080/",
          "height": 284
        },
        "id": "-axmWGqWqFQ4",
        "outputId": "f0e48129-13cc-44d5-a076-2a37024d2b75"
      },
      "source": [
        "# Double check with numpy's pseudoinverse function\n",
        "np.linalg.pinv(matrix_X)\n",
        "plt.imshow(np.linalg.pinv(matrix_X), cmap = 'Reds'); plt.title(r'$X^+$'); plt.show();"
      ],
      "execution_count": null,
      "outputs": [
        {
          "output_type": "display_data",
          "data": {
            "image/png": "[encoded data removed]",
            "text/plain": [
              "<Figure size 432x288 with 1 Axes>"
            ]
          },
          "metadata": {
            "tags": [],
            "needs_background": "light"
          }
        }
      ]
    },
    {
      "cell_type": "markdown",
      "metadata": {
        "id": "KJn6I7ZVfJTH"
      },
      "source": [
        "# Minimum Norm"
      ]
    },
    {
      "cell_type": "markdown",
      "metadata": {
        "id": "1DsSU7AufMuz"
      },
      "source": [
        "When solving a system of linear equations of the form $Xw = y$, if X is full rank we have 3 scenerios:\n",
        "\n",
        "1.  X is square. In this case, we can find $w = X^{-1}y$\n",
        "\n",
        "2.  X is tall. In this case, we have an overdetermined system. We can find the least squares solution by minimizing the error or residual $\\Vert Xw - y \\Vert^2$\n",
        "$$w = (X^T X)^{-1}X^T y = X^+ y$$ where we have the pseudo-inverse $$X^+ = (X^T X)^{-1}X^T $$\n",
        "\n",
        "3. X is wide. In this case, we have an underdetermined system, and there are infinitely many solutions that can solve $Xw = y$.\n",
        "In this scenerio, we are interested in the **minimum norm** solution:\n",
        "$$\\min_{w} \\left \\| w \\right \\| ^2 \\text{ s.t. } Xw = y$$\n",
        "In lecture, we showed that the pseudo-inverse gives us our minimum norm solution:\n",
        "$$w = X^T(X X^T)^{-1} y = X^+ y$$\n",
        "where we have pseudo-inverse\n",
        "$$X^+ = X^T(X X^T)^{-1} $$"
      ]
    },
    {
      "cell_type": "markdown",
      "metadata": {
        "id": "HXIfyA90hyce"
      },
      "source": [
        "## Underdetermined System of Equations\n",
        "Let us have some practice solving underdetermined systems.\n",
        "\n",
        "Starting with the simplest case: n = 1, d = 2. \n"
      ]
    },
    {
      "cell_type": "code",
      "metadata": {
        "colab": {
          "base_uri": "https://localhost:8080/",
          "height": 333
        },
        "id": "kmdiR2GxhiKF",
        "outputId": "c18f2d24-4c5d-4c46-b07a-f2a62bbb205d"
      },
      "source": [
        "X = np.array([2,1])\n",
        "print('X: [x1 1] : ', X)\n",
        "y = 1\n",
        "print('y = ',y)\n",
        "print('We want the solution to [{}]*w = {}'.format(X,y))\n",
        "plt.scatter(X[0],X[1], zorder = 5, linewidths = 2, c = 'k')\n",
        "\n",
        "x_range = np.linspace(-1,4,10)\n",
        "y1 = x_range*1/2\n",
        "plt.plot(x_range, y1, c = 'r', label = 'line1')\n",
        "y2 = x_range*2-3\n",
        "plt.plot(x_range, y2, c = 'g', label = 'line2')\n",
        "y3 = x_range*-2+5\n",
        "plt.plot(x_range, y3, c = 'c', label = 'line3')\n",
        "y4 = x_range*2\n",
        "plt.plot([2]*10,y4, c = 'orange', label = 'line4')\n",
        "plt.legend()\n",
        "plt.title('Many solutions')\n",
        "\n",
        "X = np.expand_dims(X, axis = 0)"
      ],
      "execution_count": null,
      "outputs": [
        {
          "output_type": "stream",
          "text": [
            "X: [x1 1] :  [2 1]\n",
            "y =  1\n",
            "We want the solution to [[2 1]]*w = 1\n"
          ],
          "name": "stdout"
        },
        {
          "output_type": "display_data",
          "data": {
            "image/png": "[encoded data removed]",
            "text/plain": [
              "<Figure size 432x288 with 1 Axes>"
            ]
          },
          "metadata": {
            "tags": [],
            "needs_background": "light"
          }
        }
      ]
    },
    {
      "cell_type": "code",
      "metadata": {
        "id": "sZpzLa8tmVCn"
      },
      "source": [
        "## Compute the minimum norm solution for w. You can use the pseudo-inverse\n",
        "## Your solution for w should be in wstar\n",
        "## Start Code\n",
        "u, d, vt = np.linalg.svd(X)\n",
        "\n",
        "dplus = np.zeros(X.shape)\n",
        "dplus[0] = 1/d\n",
        "dplus = dplus.T\n",
        "\n",
        "Xstar = vt.T @ dplus @ u.T\n",
        "wstar = Xstar*1\n",
        "## End code"
      ],
      "execution_count": null,
      "outputs": []
    },
    {
      "cell_type": "code",
      "metadata": {
        "colab": {
          "base_uri": "https://localhost:8080/",
          "height": 282
        },
        "id": "jATt4dnAsYRB",
        "outputId": "28186bfd-cf76-413e-9324-5c3b70a6afd6"
      },
      "source": [
        "plt.scatter(2,1, zorder = 5, linewidths = 2, c = 'k')\n",
        "\n",
        "x_lines = np.vstack((x_range, np.ones(x_range.shape))).T\n",
        "ys = x_lines@wstar\n",
        "plt.plot(x_range, ys, label = 'minimum norm solution')\n",
        "plt.legend()\n",
        "print('Equation: 1 = X*w = x1*{} + {}'.format(wstar[0],wstar[1]))"
      ],
      "execution_count": null,
      "outputs": [
        {
          "output_type": "stream",
          "text": [
            "Equation: 1 = X*w = x1*[0.6] + [-0.2]\n"
          ],
          "name": "stdout"
        },
        {
          "output_type": "display_data",
          "data": {
            "image/png": "[encoded data removed]",
            "text/plain": [
              "<Figure size 432x288 with 1 Axes>"
            ]
          },
          "metadata": {
            "tags": [],
            "needs_background": "light"
          }
        }
      ]
    },
    {
      "cell_type": "markdown",
      "metadata": {
        "id": "vXJjz5JHrzEX"
      },
      "source": [
        "## Pseudoinverse to fit Overdetermined system"
      ]
    },
    {
      "cell_type": "markdown",
      "metadata": {
        "id": "4WJ8rHYFvveQ"
      },
      "source": [
        "We can use pseudoinverses to fit many points. \n",
        "With a set of x and y, we want to find the line y = mx+b that minimises the error between the fit and actual data points.\n",
        "$$\\min_w ||Xw-y||$$"
      ]
    },
    {
      "cell_type": "markdown",
      "metadata": {
        "id": "iPj47Hnbr0po"
      },
      "source": [
        "Let us use this system of equation: \n",
        "$$\\boldsymbol{Xw} = \\boldsymbol{y} \\Leftrightarrow \\begin{bmatrix} 0 & 1 \\\\\\\\ 1 & 1 \\\\\\\\ 2 & 1 \\\\\\\\ 3 & 1 \\\\\\\\ 3 & 1 \\\\\\\\ 4 & 1 \\end{bmatrix} \\begin{bmatrix} m \\\\\\\\ b \\end{bmatrix} = \\begin{bmatrix} 2 \\\\\\\\ 4 \\\\\\\\ 0 \\\\\\\\ 2 \\\\\\\\ 5 \\\\\\\\ 3 \\end{bmatrix}$$\n",
        "This can also be represented as a system of equations: \n",
        "$$\\begin{cases} 0m + 1b = 2 \\\\\\\\ 1m + 1b = 4 \\\\\\\\ 2m + 1b = 0 \\\\\\\\ 3m + 1b = 2 \\\\\\\\ 3m + 1b = 5 \\\\\\\\ 4m + 1b = 3 \\end{cases}$$"
      ]
    },
    {
      "cell_type": "code",
      "metadata": {
        "colab": {
          "base_uri": "https://localhost:8080/",
          "height": 282
        },
        "id": "g0bdAchsriod",
        "outputId": "eea935c3-82a6-4f7b-bbd6-0cde30cee9bb"
      },
      "source": [
        "X = np.array([[0, 1], [1, 1], [2, 1], [3, 1], [3, 1], [4, 1]])\n",
        "y = np.array([[2], [4], [0], [2], [5], [3]])\n",
        "plt.scatter(X[:,0],y)"
      ],
      "execution_count": null,
      "outputs": [
        {
          "output_type": "execute_result",
          "data": {
            "text/plain": [
              "<matplotlib.collections.PathCollection at 0x7ff63c6dca90>"
            ]
          },
          "metadata": {
            "tags": []
          },
          "execution_count": 220
        },
        {
          "output_type": "display_data",
          "data": {
            "image/png": "[encoded data removed]",
            "text/plain": [
              "<Figure size 432x288 with 1 Axes>"
            ]
          },
          "metadata": {
            "tags": [],
            "needs_background": "light"
          }
        }
      ]
    },
    {
      "cell_type": "code",
      "metadata": {
        "id": "uzM6Sq8DsCvu"
      },
      "source": [
        "## Compute the pseudoinverse of X and find w\n",
        "## CODE HERE\n",
        "\n",
        "# soln 0\n",
        "X_plus = np.linalg.pinv(X)\n",
        "w = X_plus.dot(y)\n",
        "# soln 1\n",
        "u, d, vt = np.linalg.svd(X)\n",
        "dplus = np.zeros(X.shape)\n",
        "dplus[:min(X.shape), :min(X.shape)] = np.diag(1/d)\n",
        "dplus = dplus.T\n",
        "w = vt.T @ dplus @ u.T @ y\n",
        "# soln 2\n",
        "w = np.linalg.inv(X.T@X)@X.T@y\n"
      ],
      "execution_count": null,
      "outputs": []
    },
    {
      "cell_type": "code",
      "metadata": {
        "colab": {
          "base_uri": "https://localhost:8080/",
          "height": 265
        },
        "id": "btgsL61msUWJ",
        "outputId": "e56b4cb6-fd43-46e2-d3bf-c4f05f3c1e6f"
      },
      "source": [
        "x_range = np.linspace(-1, 5, 1000)\n",
        "ys = w[0]*x_range + w[1]\n",
        "\n",
        "plt.plot(X[:, 0], y, '*')\n",
        "plt.plot(x_range, ys)\n",
        "plt.xlim(-1., 6)\n",
        "plt.ylim(-0.5, 5.5)\n",
        "\n",
        "plt.show()"
      ],
      "execution_count": null,
      "outputs": [
        {
          "output_type": "display_data",
          "data": {
            "image/png": "[encoded data removed]",
            "text/plain": [
              "<Figure size 432x288 with 1 Axes>"
            ]
          },
          "metadata": {
            "tags": [],
            "needs_background": "light"
          }
        }
      ]
    }
  ]
}